{
 "cells": [
  {
   "cell_type": "code",
   "execution_count": 2,
   "id": "ceaf1d19-e238-47ce-b859-0112c3cfc974",
   "metadata": {},
   "outputs": [
    {
     "name": "stdin",
     "output_type": "stream",
     "text": [
      "Masukkan angka:  9\n"
     ]
    },
    {
     "name": "stdout",
     "output_type": "stream",
     "text": [
      "9 bukan bilangan prima\n"
     ]
    }
   ],
   "source": [
    "def cek_prima(n, divisor=2):\n",
    "    if n <= 2:\n",
    "        return True if n == 2 else False\n",
    "    if n % divisor == 0:\n",
    "        return False\n",
    "    if divisor * divisor > n:\n",
    "        return True\n",
    "    return cek_prima(n, divisor + 1)\n",
    "\n",
    "# Contoh penggunaan:\n",
    "angka = int(input(\"Masukkan angka: \"))\n",
    "if cek_prima(angka):\n",
    "    print(f\"{angka} adalah bilangan prima\")\n",
    "else:\n",
    "    print(f\"{angka} bukan bilangan prima\")"
   ]
  },
  {
   "cell_type": "code",
   "execution_count": 4,
   "id": "6e1b87ec-05c8-4802-8968-6eb6abd2d60e",
   "metadata": {},
   "outputs": [
    {
     "name": "stdin",
     "output_type": "stream",
     "text": [
      "Masukkan kalimat:  katak\n"
     ]
    },
    {
     "name": "stdout",
     "output_type": "stream",
     "text": [
      "Kalimat tersebut adalah palindrom\n"
     ]
    }
   ],
   "source": [
    "def is_palindrom(kalimat):\n",
    "    if len(kalimat) <= 1:\n",
    "        return True\n",
    "    if kalimat[0] != kalimat[-1]:\n",
    "        return False\n",
    "    return is_palindrom(kalimat[1:-1])\n",
    "\n",
    "# Contoh penggunaan:\n",
    "kata = input(\"Masukkan kalimat: \").replace(\" \", \"\").lower()\n",
    "if is_palindrom(kata):\n",
    "    print(\"Kalimat tersebut adalah palindrom\")\n",
    "else:\n",
    "    print(\"Kalimat tersebut bukan palindrom\")"
   ]
  },
  {
   "cell_type": "code",
   "execution_count": 6,
   "id": "a819db47-c82a-4200-ac70-105428ba1775",
   "metadata": {},
   "outputs": [
    {
     "name": "stdin",
     "output_type": "stream",
     "text": [
      "Masukkan nilai n:  4\n"
     ]
    },
    {
     "name": "stdout",
     "output_type": "stream",
     "text": [
      "n! = 24\n",
      "Jumlah deret ganjil sampai n! = 144\n"
     ]
    }
   ],
   "source": [
    "def faktorial(n):\n",
    "    if n == 0 or n == 1:\n",
    "        return 1\n",
    "    return n * faktorial(n - 1)\n",
    "\n",
    "def jumlah_ganjil(n):\n",
    "    if n <= 0:\n",
    "        return 0\n",
    "    if n % 2 == 0:\n",
    "        return jumlah_ganjil(n - 1)\n",
    "    else:\n",
    "        return n + jumlah_ganjil(n - 2)\n",
    "\n",
    "# Contoh penggunaan:\n",
    "angka = int(input(\"Masukkan nilai n: \"))\n",
    "fakt = faktorial(angka)\n",
    "print(f\"n! = {fakt}\")\n",
    "print(\"Jumlah deret ganjil sampai n! =\", jumlah_ganjil(fakt))"
   ]
  },
  {
   "cell_type": "code",
   "execution_count": 8,
   "id": "37186e44-faba-41bd-ad4d-35cc9ab5f4b0",
   "metadata": {},
   "outputs": [
    {
     "name": "stdin",
     "output_type": "stream",
     "text": [
      "Masukkan angka:  234\n"
     ]
    },
    {
     "name": "stdout",
     "output_type": "stream",
     "text": [
      "Jumlah digit: 9\n"
     ]
    }
   ],
   "source": [
    "def jumlah_digit(n):\n",
    "    if n == 0:\n",
    "        return 0\n",
    "    else:\n",
    "        return (n % 10) + jumlah_digit(n // 10)\n",
    "\n",
    "# Contoh penggunaan:\n",
    "angka = int(input(\"Masukkan angka: \"))\n",
    "print(\"Jumlah digit:\", jumlah_digit(angka))"
   ]
  },
  {
   "cell_type": "code",
   "execution_count": 10,
   "id": "f8539ca3-5e46-44b5-832d-bbdf86bc95cc",
   "metadata": {},
   "outputs": [
    {
     "name": "stdin",
     "output_type": "stream",
     "text": [
      "Masukkan nilai n:  5\n",
      "Masukkan nilai r:  2\n"
     ]
    },
    {
     "name": "stdout",
     "output_type": "stream",
     "text": [
      "C(5,2) = 10\n"
     ]
    }
   ],
   "source": [
    "def faktorial(n):\n",
    "    if n == 0 or n == 1:\n",
    "        return 1\n",
    "    return n * faktorial(n - 1)\n",
    "\n",
    "def kombinasi(n, r):\n",
    "    return faktorial(n) // (faktorial(r) * faktorial(n - r))\n",
    "\n",
    "n = int(input(\"Masukkan nilai n: \"))\n",
    "r = int(input(\"Masukkan nilai r: \"))\n",
    "\n",
    "if r > n:\n",
    "    print(\"r tidak boleh lebih besar dari n!\")\n",
    "else:\n",
    "    print(f\"C({n},{r}) =\", kombinasi(n, r))"
   ]
  },
  {
   "cell_type": "code",
   "execution_count": null,
   "id": "501d4d42-2c7b-44a0-bb39-6961c1a9cc34",
   "metadata": {},
   "outputs": [],
   "source": []
  }
 ],
 "metadata": {
  "kernelspec": {
   "display_name": "Python [conda env:base] *",
   "language": "python",
   "name": "conda-base-py"
  },
  "language_info": {
   "codemirror_mode": {
    "name": "ipython",
    "version": 3
   },
   "file_extension": ".py",
   "mimetype": "text/x-python",
   "name": "python",
   "nbconvert_exporter": "python",
   "pygments_lexer": "ipython3",
   "version": "3.12.7"
  }
 },
 "nbformat": 4,
 "nbformat_minor": 5
}
