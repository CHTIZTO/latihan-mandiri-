{
 "cells": [
  {
   "cell_type": "code",
   "execution_count": 1,
   "id": "f102e5d0-0241-4ac0-af4e-c46c6979bab7",
   "metadata": {},
   "outputs": [
    {
     "name": "stdout",
     "output_type": "stream",
     "text": [
      "Tiga bilangan terbesar: [40, 30, 25]\n"
     ]
    }
   ],
   "source": [
    "def tiga_terbesar(data):\n",
    "    unik = list(set(data))  # hapus duplikat\n",
    "    unik.sort(reverse=True)  # urutkan dari besar ke kecil\n",
    "    return unik[:3]  # ambil 3 teratas\n",
    "\n",
    "# Contoh penggunaan:\n",
    "angka = [10, 25, 30, 25, 40, 5, 40]\n",
    "hasil = tiga_terbesar(angka)\n",
    "print(\"Tiga bilangan terbesar:\", hasil)"
   ]
  },
  {
   "cell_type": "code",
   "execution_count": 3,
   "id": "7c6b70d7-296d-45d8-b319-fd3593425520",
   "metadata": {},
   "outputs": [
    {
     "name": "stdin",
     "output_type": "stream",
     "text": [
      "Masukkan angka (atau 'done' untuk selesai):  30\n",
      "Masukkan angka (atau 'done' untuk selesai):  45\n",
      "Masukkan angka (atau 'done' untuk selesai):  60\n",
      "Masukkan angka (atau 'done' untuk selesai):  75\n",
      "Masukkan angka (atau 'done' untuk selesai):  done\n"
     ]
    },
    {
     "name": "stdout",
     "output_type": "stream",
     "text": [
      "Rata-rata: 52.5\n"
     ]
    }
   ],
   "source": [
    "angka = []\n",
    "\n",
    "while True:\n",
    "    masukan = input(\"Masukkan angka (atau 'done' untuk selesai): \")\n",
    "    if masukan == 'done':\n",
    "        break\n",
    "    try:\n",
    "        nilai = float(masukan)\n",
    "        angka.append(nilai)\n",
    "    except:\n",
    "        print(\"Masukan tidak valid, coba lagi.\")\n",
    "\n",
    "if len(angka) > 0:\n",
    "    rata_rata = sum(angka) / len(angka)\n",
    "    print(\"Rata-rata:\", rata_rata)\n",
    "else:\n",
    "    print(\"Tidak ada angka yang dimasukkan.\")"
   ]
  },
  {
   "cell_type": "code",
   "execution_count": 5,
   "id": "a56fab8a-0704-499a-b305-66159d3a2dd3",
   "metadata": {},
   "outputs": [
    {
     "name": "stdin",
     "output_type": "stream",
     "text": [
      "Masukkan nama file teks :  artikel.txt\n"
     ]
    },
    {
     "name": "stdout",
     "output_type": "stream",
     "text": [
      "Kata unik yang ditemukan:\n",
      "Artikel\n",
      "Dengan\n",
      "Namun,\n",
      "Penggunaan\n",
      "Teknologi\n",
      "aktivitas.\n",
      "bagaimana\n",
      "berbagai\n",
      "berkembang\n",
      "bidang,\n",
      "bijak.\n",
      "dalam\n",
      "dan\n",
      "dapat\n",
      "dari\n",
      "di\n",
      "digital\n",
      "efisiensi\n",
      "era\n",
      "gawai,\n",
      "hingga\n",
      "hoaks,\n",
      "industri.\n",
      "ini\n",
      "ini.\n",
      "internet\n",
      "juga\n",
      "ke\n",
      "kecanduan\n",
      "kehidupan\n",
      "kesehatan,\n",
      "kita\n",
      "memanfaatkannya\n",
      "membahas\n",
      "memiliki\n",
      "mempengaruhi\n",
      "meningkatkan\n",
      "merambah\n",
      "mulai\n",
      "pelanggaran\n",
      "pemanfaatan\n",
      "pendidikan,\n",
      "penggunaan\n",
      "penyebaran\n",
      "pesat\n",
      "privasi.\n",
      "produktivitas\n",
      "secara\n",
      "sehari-hari\n",
      "semakin\n",
      "seperti\n",
      "tantangan\n",
      "teknologi\n",
      "telah\n",
      "tepat,\n",
      "tersendiri,\n",
      "yang\n"
     ]
    }
   ],
   "source": [
    "nama_file = input(\"Masukkan nama file teks : \")\n",
    "\n",
    "try:\n",
    "    with open(nama_file, 'r') as f:\n",
    "        isi = f.read()\n",
    "        kata = isi.split()  # pecah jadi kata-kata\n",
    "        kata_unik = set(kata)  # hapus yang duplikat\n",
    "        print(\"Kata unik yang ditemukan:\")\n",
    "        for k in sorted(kata_unik):\n",
    "            print(k)\n",
    "except FileNotFoundError:\n",
    "    print(\"File tidak ditemukan.\")"
   ]
  },
  {
   "cell_type": "code",
   "execution_count": null,
   "id": "ab3d7cd5-b83f-4fdf-a3ad-1a9b15d89bdd",
   "metadata": {},
   "outputs": [],
   "source": []
  }
 ],
 "metadata": {
  "kernelspec": {
   "display_name": "Python [conda env:base] *",
   "language": "python",
   "name": "conda-base-py"
  },
  "language_info": {
   "codemirror_mode": {
    "name": "ipython",
    "version": 3
   },
   "file_extension": ".py",
   "mimetype": "text/x-python",
   "name": "python",
   "nbconvert_exporter": "python",
   "pygments_lexer": "ipython3",
   "version": "3.12.7"
  }
 },
 "nbformat": 4,
 "nbformat_minor": 5
}
