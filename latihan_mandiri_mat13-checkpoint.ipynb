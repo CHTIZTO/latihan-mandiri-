{
 "cells": [
  {
   "cell_type": "code",
   "execution_count": 2,
   "id": "2558ea3b-a526-4731-997a-52b21bc36d12",
   "metadata": {},
   "outputs": [
    {
     "name": "stdin",
     "output_type": "stream",
     "text": [
      "Masukkan jumlah kategori:  2\n",
      "Masukkan nama kategori ke-1:  roblox\n"
     ]
    },
    {
     "name": "stdout",
     "output_type": "stream",
     "text": [
      "Masukkan 5 nama aplikasi di kategori roblox\n"
     ]
    },
    {
     "name": "stdin",
     "output_type": "stream",
     "text": [
      "Nama aplikasi:  parkour\n",
      "Nama aplikasi:  obby\n",
      "Nama aplikasi:  fps\n",
      "Nama aplikasi:  racing\n",
      "Nama aplikasi:  bedwars\n",
      "Masukkan nama kategori ke-2:  minecraft\n"
     ]
    },
    {
     "name": "stdout",
     "output_type": "stream",
     "text": [
      "Masukkan 5 nama aplikasi di kategori minecraft\n"
     ]
    },
    {
     "name": "stdin",
     "output_type": "stream",
     "text": [
      "Nama aplikasi:  parkour\n",
      "Nama aplikasi:  bal balan\n",
      "Nama aplikasi:  tenis\n",
      "Nama aplikasi:  pingpong\n",
      "Nama aplikasi:  sepak bola\n"
     ]
    },
    {
     "name": "stdout",
     "output_type": "stream",
     "text": [
      "\n",
      "Aplikasi yang muncul di SEMUA kategori: {'parkour'}\n",
      "Aplikasi yang hanya muncul di SATU kategori: {'sepak bola', 'bedwars', 'pingpong', 'obby', 'fps', 'tenis', 'bal balan', 'racing'}\n"
     ]
    }
   ],
   "source": [
    "n = int(input(\"Masukkan jumlah kategori: \"))\n",
    "data_aplikasi = {}\n",
    "for i in range(n):\n",
    "    nama_kategori = input(f\"Masukkan nama kategori ke-{i+1}: \")\n",
    "    print(f\"Masukkan 5 nama aplikasi di kategori {nama_kategori}\")\n",
    "    aplikasi = []\n",
    "    for j in range(5):\n",
    "        nama_aplikasi = input(\"Nama aplikasi: \")\n",
    "        aplikasi.append(nama_aplikasi)\n",
    "    data_aplikasi[nama_kategori] = aplikasi\n",
    "set_list = []\n",
    "for apps in data_aplikasi.values():\n",
    "    set_list.append(set(apps))\n",
    "hasil_semua = set_list[0]\n",
    "for s in set_list[1:]:\n",
    "    hasil_semua = hasil_semua.intersection(s)\n",
    "print(\"\\nAplikasi yang muncul di SEMUA kategori:\", hasil_semua)\n",
    "from collections import defaultdict\n",
    "frekuensi = defaultdict(int)\n",
    "for s in set_list:\n",
    "    for app in s:\n",
    "        frekuensi[app] += 1\n",
    "satu_kategori = {app for app, count in frekuensi.items() if count == 1}\n",
    "print(\"Aplikasi yang hanya muncul di SATU kategori:\", satu_kategori)\n",
    "if n > 2:\n",
    "    dua_kategori = {app for app, count in frekuensi.items() if count == 2}\n",
    "    print(\"Aplikasi yang muncul TEPAT di dua kategori:\", dua_kategori)"
   ]
  },
  {
   "cell_type": "code",
   "execution_count": 4,
   "id": "cb3bf421-1c11-4845-8b3a-c3178df67407",
   "metadata": {},
   "outputs": [
    {
     "name": "stdout",
     "output_type": "stream",
     "text": [
      "List awal: [1, 2, 3, 2, 4, 1]\n",
      "Set dari list: {1, 2, 3, 4}\n",
      "\n",
      "Set awal: {40, 10, 20, 30}\n",
      "List dari set: [40, 10, 20, 30]\n",
      "\n",
      "Tuple awal: (5, 6, 7, 5, 8)\n",
      "Set dari tuple: {8, 5, 6, 7}\n",
      "\n",
      "Set awal: {'a', 'c', 'b'}\n",
      "Tuple dari set: ('a', 'c', 'b')\n"
     ]
    }
   ],
   "source": [
    "# List ke Set\n",
    "list_awal = [1, 2, 3, 2, 4, 1]\n",
    "set_dari_list = set(list_awal)\n",
    "print(\"List awal:\", list_awal)\n",
    "print(\"Set dari list:\", set_dari_list)\n",
    "\n",
    "# Set ke List\n",
    "set_awal = {10, 20, 30, 40}\n",
    "list_dari_set = list(set_awal)\n",
    "print(\"\\nSet awal:\", set_awal)\n",
    "print(\"List dari set:\", list_dari_set)\n",
    "\n",
    "# Tuple ke Set\n",
    "tuple_awal = (5, 6, 7, 5, 8)\n",
    "set_dari_tuple = set(tuple_awal)\n",
    "print(\"\\nTuple awal:\", tuple_awal)\n",
    "print(\"Set dari tuple:\", set_dari_tuple)\n",
    "\n",
    "# Set ke Tuple\n",
    "set_kedua = {'a', 'b', 'c'}\n",
    "tuple_dari_set = tuple(set_kedua)\n",
    "print(\"\\nSet awal:\", set_kedua)\n",
    "print(\"Tuple dari set:\", tuple_dari_set)"
   ]
  },
  {
   "cell_type": "code",
   "execution_count": 6,
   "id": "8a03c36a-36d3-4dc2-98b0-3ab2135b2137",
   "metadata": {},
   "outputs": [
    {
     "name": "stdin",
     "output_type": "stream",
     "text": [
      "Masukkan nama file pertama:  baca1.txt\n",
      "Masukkan nama file kedua:  baca2.txt\n"
     ]
    },
    {
     "name": "stdout",
     "output_type": "stream",
     "text": [
      "Kata-kata yang muncul di kedua file: {'pemrograman', 'bahasa', 'digunakan', 'data', 'python', 'sangat', 'dan'}\n"
     ]
    }
   ],
   "source": [
    "def baca_file(nama_file):\n",
    "    try:\n",
    "        with open(nama_file, 'r') as file:\n",
    "            isi = file.read().lower()\n",
    "            return set(isi.split())\n",
    "    except FileNotFoundError:\n",
    "        print(f\"File '{nama_file}' tidak ditemukan!\")\n",
    "        return None\n",
    "\n",
    "file1 = input(\"Masukkan nama file pertama: \")\n",
    "file2 = input(\"Masukkan nama file kedua: \")\n",
    "\n",
    "kata_file1 = baca_file(file1)\n",
    "kata_file2 = baca_file(file2)\n",
    "\n",
    "if kata_file1 is not None and kata_file2 is not None:\n",
    "    kata_sama = kata_file1 & kata_file2\n",
    "    print(\"Kata-kata yang muncul di kedua file:\", kata_sama)"
   ]
  },
  {
   "cell_type": "code",
   "execution_count": null,
   "id": "5a7a1af0-d9ed-47ec-86de-ee4b57183ce5",
   "metadata": {},
   "outputs": [],
   "source": []
  }
 ],
 "metadata": {
  "kernelspec": {
   "display_name": "Python [conda env:base] *",
   "language": "python",
   "name": "conda-base-py"
  },
  "language_info": {
   "codemirror_mode": {
    "name": "ipython",
    "version": 3
   },
   "file_extension": ".py",
   "mimetype": "text/x-python",
   "name": "python",
   "nbconvert_exporter": "python",
   "pygments_lexer": "ipython3",
   "version": "3.12.7"
  }
 },
 "nbformat": 4,
 "nbformat_minor": 5
}
