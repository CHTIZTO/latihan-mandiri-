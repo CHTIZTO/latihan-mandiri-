{
 "cells": [
  {
   "cell_type": "code",
   "execution_count": 41,
   "id": "99bf150f-b60c-4bce-9508-8f35caf4ed33",
   "metadata": {},
   "outputs": [
    {
     "name": "stdin",
     "output_type": "stream",
     "text": [
      "Masukkan bilangan:  2\n"
     ]
    },
    {
     "name": "stdout",
     "output_type": "stream",
     "text": [
      "Tidak ada bilangan prima yang lebih kecil dari input.\n"
     ]
    }
   ],
   "source": [
    "def angka_prima(n):\n",
    "    for i in range(n - 1, 1, -1):  # Loop mencari bilangan prima di bawah n\n",
    "        for j in range(2, int(i ** 0.5) + 1):  # untuk ngecek i adalah bilangan prima bukan\n",
    "            if i % j == 0:\n",
    "                break\n",
    "        else:\n",
    "            return i  \n",
    "    return None \n",
    "\n",
    "n = int(input(\"Masukkan bilangan: \"))\n",
    "result = angka_prima(n)\n",
    "\n",
    "if result is not None:  \n",
    "    print(f\"Bilangan prima terdekat yang lebih kecil dari {n} adalah {result}\")\n",
    "else:\n",
    "    print(\"Tidak ada bilangan prima yang lebih kecil dari input.\")\n"
   ]
  },
  {
   "cell_type": "code",
   "execution_count": 43,
   "id": "4ea1be6c-eb2b-4c1b-a2fe-f106c7c641e6",
   "metadata": {},
   "outputs": [
    {
     "name": "stdin",
     "output_type": "stream",
     "text": [
      "Masukkan nilai n:  6\n"
     ]
    },
    {
     "name": "stdout",
     "output_type": "stream",
     "text": [
      "720 6 5 4 3 2 1 \n",
      "120 5 4 3 2 1 \n",
      "24 4 3 2 1 \n",
      "6 3 2 1 \n",
      "2 2 1 \n",
      "1 1 \n"
     ]
    }
   ],
   "source": [
    "def faktorial(n):\n",
    "    hasil = 1\n",
    "    for i in range(1, n + 1):\n",
    "        hasil *= i\n",
    "    return hasil\n",
    "\n",
    "n = int(input(\"Masukkan nilai n: \"))\n",
    "\n",
    "for i in range(n, 0, -1):\n",
    "    print(faktorial(i), end=\" \")\n",
    "    for j in range(i, 0, -1):\n",
    "        print(j, end=\" \")\n",
    "    print()\n"
   ]
  },
  {
   "cell_type": "code",
   "execution_count": 47,
   "id": "9b0c54c8-4b31-4226-be5e-737c0bc05247",
   "metadata": {},
   "outputs": [
    {
     "name": "stdin",
     "output_type": "stream",
     "text": [
      "Masukkan tinggi:  5\n",
      "Masukkan lebar:  4\n"
     ]
    },
    {
     "name": "stdout",
     "output_type": "stream",
     "text": [
      "1 2 3 4 \n",
      "5 6 7 8 \n",
      "9 10 11 12 \n",
      "13 14 15 16 \n",
      "17 18 19 20 \n"
     ]
    }
   ],
   "source": [
    "tinggi = int(input(\"Masukkan tinggi: \"))\n",
    "lebar = int(input(\"Masukkan lebar: \"))\n",
    "\n",
    "angka = 1\n",
    "\n",
    "for i in range(tinggi):\n",
    "    for j in range(lebar):\n",
    "        print(angka, end=\" \") \n",
    "        angka += 1  \n",
    "    print() "
   ]
  },
  {
   "cell_type": "code",
   "execution_count": null,
   "id": "d6ccdc81-7b2e-4931-a442-b6f25b5e396d",
   "metadata": {},
   "outputs": [],
   "source": []
  }
 ],
 "metadata": {
  "kernelspec": {
   "display_name": "Python [conda env:base] *",
   "language": "python",
   "name": "conda-base-py"
  },
  "language_info": {
   "codemirror_mode": {
    "name": "ipython",
    "version": 3
   },
   "file_extension": ".py",
   "mimetype": "text/x-python",
   "name": "python",
   "nbconvert_exporter": "python",
   "pygments_lexer": "ipython3",
   "version": "3.12.7"
  }
 },
 "nbformat": 4,
 "nbformat_minor": 5
}
