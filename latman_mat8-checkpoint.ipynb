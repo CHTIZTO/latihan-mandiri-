{
 "cells": [
  {
   "cell_type": "code",
   "execution_count": 1,
   "id": "640fd622-dcc5-4874-abd5-75209d0fd94b",
   "metadata": {},
   "outputs": [
    {
     "name": "stdin",
     "output_type": "stream",
     "text": [
      "Masukkan kata pertama:  mata\n",
      "Masukkan kata kedua:  atma\n"
     ]
    },
    {
     "name": "stdout",
     "output_type": "stream",
     "text": [
      "\"mata\" dan \"atma\" adalah anagram!\n"
     ]
    }
   ],
   "source": [
    "def cek_anagram(kata1, kata2):\n",
    "    kata1 = kata1.replace(\" \", \"\").lower()\n",
    "    kata2 = kata2.replace(\" \", \"\").lower()\n",
    "\n",
    "    return sorted(kata1) == sorted(kata2)\n",
    "    \n",
    "kata_pertama = input(\"Masukkan kata pertama: \")\n",
    "kata_kedua = input(\"Masukkan kata kedua: \")\n",
    "\n",
    "if cek_anagram(kata_pertama, kata_kedua):\n",
    "    print(f'\"{kata_pertama}\" dan \"{kata_kedua}\" adalah anagram!')\n",
    "else:\n",
    "    print(f'\"{kata_pertama}\" dan \"{kata_kedua}\" bukan anagram.')"
   ]
  },
  {
   "cell_type": "code",
   "execution_count": 5,
   "id": "ddd1d742-703d-4fb8-9351-b16daa48bc54",
   "metadata": {},
   "outputs": [
    {
     "name": "stdout",
     "output_type": "stream",
     "text": [
      "makan ada 3 buah.\n"
     ]
    }
   ],
   "source": [
    "def hitung_kata(teks, kata_dicari):\n",
    "    teks = teks.lower()\n",
    "    kata_dicari = kata_dicari.lower()\n",
    "\n",
    "    for tanda in ['.', ',', '!', '?']:\n",
    "        teks = teks.replace(tanda, '')\n",
    "    kata_list = teks.split()\n",
    "\n",
    "    jumlah = kata_list.count(kata_dicari)\n",
    "    return jumlah\n",
    "\n",
    "kalimat = \"Saya mau makan. Makan itu wajib. Mau siang atau malam saya wajib makan\"\n",
    "kata = \"makan\"\n",
    "\n",
    "jumlah = hitung_kata(kalimat, kata)\n",
    "print(f'{kata} ada {jumlah} buah.')"
   ]
  },
  {
   "cell_type": "code",
   "execution_count": 9,
   "id": "295b592a-1ba5-4897-a2e2-8c8e9165729b",
   "metadata": {},
   "outputs": [
    {
     "name": "stdout",
     "output_type": "stream",
     "text": [
      "Hasil: \"saya tidak suka memancing ikan\"\n"
     ]
    }
   ],
   "source": [
    "def hapus_spasi_berlebih(teks):\n",
    "    return ' '.join(teks.strip().split())\n",
    "\n",
    "# test case\n",
    "kalimat = \"   saya   tidak   suka    memancing   ikan     \"\n",
    "hasil = hapus_spasi_berlebih(kalimat)\n",
    "print(f'Hasil: \"{hasil}\"')"
   ]
  },
  {
   "cell_type": "code",
   "execution_count": 11,
   "id": "f34efe34-089b-40c3-8fe0-2fbdb9adef40",
   "metadata": {},
   "outputs": [
    {
     "name": "stdout",
     "output_type": "stream",
     "text": [
      "Terpendek: a\n",
      "Terpanjang: snakes\n"
     ]
    }
   ],
   "source": [
    "def cari_kata_pendek_panjang(kalimat):\n",
    "    for tanda in ['.', ',', '!', '?']:\n",
    "        kalimat = kalimat.replace(tanda, '')\n",
    "    kata_list = kalimat.split()\n",
    "\n",
    "    kata_terpendek = min(kata_list, key=len)\n",
    "    kata_terpanjang = max(kata_list, key=len)\n",
    "    return kata_terpendek, kata_terpanjang\n",
    "\n",
    "# testcase\n",
    "kalimat = \"red snakes and a black frog in the pool\"\n",
    "terpendek, terpanjang = cari_kata_pendek_panjang(kalimat)\n",
    "\n",
    "print(f\"Terpendek: {terpendek}\")\n",
    "print(f\"Terpanjang: {terpanjang}\")"
   ]
  },
  {
   "cell_type": "code",
   "execution_count": 13,
   "id": "45e67579-5963-4fa8-ba17-3ea8f89d52ff",
   "metadata": {},
   "outputs": [
    {
     "name": "stdout",
     "output_type": "stream",
     "text": [
      "1945-08-17 selisih 29107 hari\n",
      "1785-11-11 selisih 87459 hari\n",
      "1783-06-08 selisih 88346 hari\n",
      "1889-05-02 selisih 49667 hari\n"
     ]
    }
   ],
   "source": [
    "import re\n",
    "from datetime import datetime\n",
    "\n",
    "def proses_tanggal(teks):\n",
    "    pola_tanggal = r'\\b\\d{4}-\\d{2}-\\d{2}\\b'\n",
    "    daftar_tanggal = re.findall(pola_tanggal, teks)\n",
    "\n",
    "    hari_ini = datetime.now().date()\n",
    "\n",
    "    for tanggal_str in daftar_tanggal:\n",
    "        tanggal_obj = datetime.strptime(tanggal_str, \"%Y-%m-%d\").date()\n",
    "        selisih = (hari_ini - tanggal_obj).days\n",
    "      \n",
    "        print(f\"{tanggal_obj} selisih {selisih} hari\")\n",
    "\n",
    "# testcase\n",
    "teks = \"\"\"\n",
    "Pada tanggal 1945-08-17 Indonesia merdeka. Indonesia memiliki beberapa pahlawan nasional,\n",
    "seperti Pangeran Diponegoro (TL: 1785-11-11), Pattimura (TL: 1783-06-08) dan Ki Hajar Dewantara (1889-05-02).\n",
    "\"\"\"\n",
    "\n",
    "proses_tanggal(teks)\n"
   ]
  },
  {
   "cell_type": "code",
   "execution_count": 15,
   "id": "103f4ade-441e-4445-aa52-f33d83404d71",
   "metadata": {},
   "outputs": [
    {
     "name": "stdout",
     "output_type": "stream",
     "text": [
      "anton@mail.com username: anton , password: H6XhVshX\n",
      "budi@gmail.co.id username: budi , password: DytV3r0I\n",
      "slamet@getnada.com username: slamet , password: xFxoc8Iw\n",
      "matahari@tokopedia.com username: matahari , password: uTbjiJjx\n"
     ]
    }
   ],
   "source": [
    "import re\n",
    "import random\n",
    "import string\n",
    "\n",
    "def generate_password(panjang=8):\n",
    "    karakter = string.ascii_letters + string.digits  \n",
    "    return ''.join(random.choice(karakter) for _ in range(panjang))\n",
    "\n",
    "def proses_email(teks):\n",
    "    pola_email = r'[\\w\\.-]+@[\\w\\.-]+\\.\\w+'\n",
    "    daftar_email = re.findall(pola_email, teks)\n",
    "\n",
    "    for email in daftar_email:\n",
    "        username = email.split('@')[0]\n",
    "        password = generate_password(8)\n",
    "        print(f\"{email} username: {username} , password: {password}\")\n",
    "\n",
    "# testcase\n",
    "teks = \"\"\"\n",
    "Berikut adalah daftar email dan nama pengguna dari mailing list:\n",
    "anton@mail.com dimiliki oleh antonius\n",
    "budi@gmail.co.id dimiliki oleh budi anwari\n",
    "slamet@getnada.com dimiliki oleh slamet slumut\n",
    "matahari@tokopedia.com dimiliki oleh toko matahari\n",
    "\"\"\"\n",
    "proses_email(teks)"
   ]
  },
  {
   "cell_type": "code",
   "execution_count": null,
   "id": "bdf38c1e-6883-4843-93ef-3d28036118c0",
   "metadata": {},
   "outputs": [],
   "source": []
  }
 ],
 "metadata": {
  "kernelspec": {
   "display_name": "Python [conda env:base] *",
   "language": "python",
   "name": "conda-base-py"
  },
  "language_info": {
   "codemirror_mode": {
    "name": "ipython",
    "version": 3
   },
   "file_extension": ".py",
   "mimetype": "text/x-python",
   "name": "python",
   "nbconvert_exporter": "python",
   "pygments_lexer": "ipython3",
   "version": "3.12.7"
  }
 },
 "nbformat": 4,
 "nbformat_minor": 5
}
