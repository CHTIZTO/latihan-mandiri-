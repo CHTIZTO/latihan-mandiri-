{
 "cells": [
  {
   "cell_type": "code",
   "execution_count": 1,
   "id": "8cb5ba77-253f-4e36-bf53-4839aed3502d",
   "metadata": {},
   "outputs": [
    {
     "name": "stdout",
     "output_type": "stream",
     "text": [
      "True\n",
      "False\n",
      "False\n"
     ]
    }
   ],
   "source": [
    "def cek_angka(a, b, c):\n",
    "    if a == b or b == c or a == c:\n",
    "        return False\n",
    "    if a + b == c or a + c == b or b + c == a:\n",
    "        return True\n",
    "\n",
    "    return False\n",
    "\n",
    "print(cek_angka(3, 5, 8))   # True (karena 3 + 5 = 8)\n",
    "print(cek_angka(2, 2, 4))   # False (karena ada angka yang sama)\n",
    "print(cek_angka(5, 7, 9))   # False (karena tidak ada dua angka yang jumlahnya sama dengan yang lain)\n"
   ]
  },
  {
   "cell_type": "code",
   "execution_count": 11,
   "id": "f41013aa-2f19-46d0-b5cb-32811ab94e5c",
   "metadata": {},
   "outputs": [
    {
     "name": "stdout",
     "output_type": "stream",
     "text": [
      "True\n",
      "True\n",
      "False\n",
      "True\n",
      "False\n"
     ]
    }
   ],
   "source": [
    "def cek_digit_belakang(a, b, c):\n",
    "    digit_a = a % 10\n",
    "    digit_b = b % 10\n",
    "    digit_c = c % 10\n",
    "\n",
    "    if digit_a == digit_b or digit_a == digit_c or digit_b == digit_c:\n",
    "        return True\n",
    "    return False\n",
    "\n",
    "print(cek_digit_belakang(30, 20, 18))\n",
    "print(cek_digit_belakang(145, 5, 100))\n",
    "print(cek_digit_belakang(71, 187, 18))\n",
    "print(cek_digit_belakang(1024, 14, 94))\n",
    "print(cek_digit_belakang(53, 8900, 658))"
   ]
  },
  {
   "cell_type": "code",
   "execution_count": 17,
   "id": "2b03a891-e3dc-4c01-b060-9f560e2a897e",
   "metadata": {},
   "outputs": [
    {
     "name": "stdout",
     "output_type": "stream",
     "text": [
      "F = 212\n",
      "R = 64\n",
      "F = 32\n"
     ]
    }
   ],
   "source": [
    "celsius_ke_fahrenheit = lambda c: (9/5) * c + 32\n",
    "celsius_ke_reamur = lambda c: 0.8 * c\n",
    "\n",
    "print(f\"F = {celsius_to_fahrenheit(100):.0f}\") \n",
    "print(f\"R = {celsius_to_reamur(80):.0f}\")     \n",
    "print(f\"F = {celsius_to_fahrenheit(0):.0f}\")    "
   ]
  },
  {
   "cell_type": "code",
   "execution_count": null,
   "id": "a47061c7-5d21-448d-8a6f-838033fe3eb0",
   "metadata": {},
   "outputs": [],
   "source": []
  }
 ],
 "metadata": {
  "kernelspec": {
   "display_name": "Python [conda env:base] *",
   "language": "python",
   "name": "conda-base-py"
  },
  "language_info": {
   "codemirror_mode": {
    "name": "ipython",
    "version": 3
   },
   "file_extension": ".py",
   "mimetype": "text/x-python",
   "name": "python",
   "nbconvert_exporter": "python",
   "pygments_lexer": "ipython3",
   "version": "3.12.7"
  }
 },
 "nbformat": 4,
 "nbformat_minor": 5
}
