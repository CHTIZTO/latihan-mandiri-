{
 "cells": [
  {
   "cell_type": "code",
   "execution_count": 5,
   "id": "2eac01e4-0a8d-4042-87c2-16bc37201a3f",
   "metadata": {},
   "outputs": [
    {
     "name": "stdout",
     "output_type": "stream",
     "text": [
      "6 x 5 = 5 + 5 + 5 + 5 + 5 + 5 = 30\n",
      "7 x 10 = 10 + 10 + 10 + 10 + 10 + 10 + 10 = 70\n"
     ]
    }
   ],
   "source": [
    "def perkalian(a, b):\n",
    "    hasil = 0\n",
    "    print(f\"{a} x {b} = \", end='')\n",
    "    for i in range(a): \n",
    "        hasil += b \n",
    "        if i < a - 1:\n",
    "            print(f\"{b} + \", end='')\n",
    "        else:\n",
    "            print(f\"{b} = {hasil}\")\n",
    "\n",
    "perkalian(6, 5)\n",
    "perkalian(7, 10)"
   ]
  },
  {
   "cell_type": "code",
   "execution_count": 16,
   "id": "57b4b9e4-27cc-4e97-ab5a-6c54f9b12d92",
   "metadata": {},
   "outputs": [
    {
     "name": "stdout",
     "output_type": "stream",
     "text": [
      "11, 13, 15, 17, 19, 21, 23, 25, 27, 29\n",
      "83, 85, 87, 89, 91, 93, 95\n"
     ]
    }
   ],
   "source": [
    "def ganjil(bawah, atas):\n",
    "    if bawah > atas:\n",
    "        bawah, atas = atas, bawah  \n",
    "    \n",
    "    if bawah % 2 == 0:\n",
    "        bawah += 1\n",
    "    \n",
    "    for i in range(bawah, atas, 2):\n",
    "        print(i, end=', ' if i + 2 < atas else '\\n')\n",
    "\n",
    "ganjil(10, 30)\n",
    "ganjil(97, 82)"
   ]
  },
  {
   "cell_type": "code",
   "execution_count": 46,
   "id": "c785f6ef-bbc0-46a7-b419-8b0733161321",
   "metadata": {},
   "outputs": [
    {
     "name": "stdout",
     "output_type": "stream",
     "text": [
      "Program perhitungan IPS Mahasiswa\n",
      "\n"
     ]
    },
    {
     "name": "stdin",
     "output_type": "stream",
     "text": [
      "Masukkan jumlah mata kuliah:  6\n",
      "Masukkan nilai matkul 1:  A\n",
      "Masukkan nilai matkul 2:  B\n",
      "Masukkan nilai matkul 3:  C\n",
      "Masukkan nilai matkul 4:  A\n",
      "Masukkan nilai matkul 5:  B\n",
      "Masukkan nilai matkul 6:  A\n"
     ]
    },
    {
     "name": "stdout",
     "output_type": "stream",
     "text": [
      "\n",
      "IPS anda semester ini 3.33\n"
     ]
    }
   ],
   "source": [
    "def hitung_ips():\n",
    "    print(\"Program perhitungan IPS Mahasiswa\\n\")\n",
    "    \n",
    "    bobot_nilai = {'A': 4, 'B': 3, 'C': 2, 'D': 1}\n",
    "    sks_per_mk = 3  \n",
    "    jumlah_mk = int(input(\"Masukkan jumlah mata kuliah: \"))\n",
    "    total_bobot = 0  \n",
    "\n",
    "    for i in range(1, jumlah_mk + 1):\n",
    "        while True:\n",
    "            nilai = input(f\"Masukkan nilai matkul {i}: \")\n",
    "            if nilai in ['A', 'B', 'C', 'D']: \n",
    "                total_bobot += bobot_nilai[nilai] * sks_per_mk\n",
    "                break\n",
    "            else:\n",
    "                print(\"Input salah! Masukkan A, B, C, atau D.\")\n",
    "\n",
    "    total_sks = jumlah_mk * sks_per_mk\n",
    "    ips = total_bobot / total_sks\n",
    "    \n",
    "    print(f\"\\nIPS anda semester ini {ips:.2f}\")\n",
    "hitung_ips()\n"
   ]
  }
 ],
 "metadata": {
  "kernelspec": {
   "display_name": "Python [conda env:base] *",
   "language": "python",
   "name": "conda-base-py"
  },
  "language_info": {
   "codemirror_mode": {
    "name": "ipython",
    "version": 3
   },
   "file_extension": ".py",
   "mimetype": "text/x-python",
   "name": "python",
   "nbconvert_exporter": "python",
   "pygments_lexer": "ipython3",
   "version": "3.12.7"
  }
 },
 "nbformat": 4,
 "nbformat_minor": 5
}
