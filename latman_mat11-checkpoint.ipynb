{
 "cells": [
  {
   "cell_type": "code",
   "execution_count": 2,
   "id": "7217aca5-90d6-4935-aef0-3f18fecb2ac9",
   "metadata": {},
   "outputs": [
    {
     "name": "stdout",
     "output_type": "stream",
     "text": [
      "key  value  item\n",
      "1    25     1\n",
      "2    45     2\n",
      "3    60     3\n",
      "4    78     4\n",
      "5    84     5\n",
      "6    97     6\n"
     ]
    }
   ],
   "source": [
    "# data = {1: 10, 2: 20, 3: 30, 4: 40, 5: 50, 6: 60}\n",
    "data = {1: 25, 2: 45, 3: 60, 4: 78, 5: 84, 6: 97}\n",
    "\n",
    "print(\"key  value  item\")\n",
    "for key, value in data.items():\n",
    "    print(f\"{key}    {value}     {key}\")"
   ]
  },
  {
   "cell_type": "code",
   "execution_count": 4,
   "id": "ecc5ca53-cd25-43e4-80ee-e15bd88f1bce",
   "metadata": {},
   "outputs": [
    {
     "name": "stdout",
     "output_type": "stream",
     "text": [
      "{'green': '#008000', 'blue': '#0000FF', 'red': '#FF0000'}\n"
     ]
    }
   ],
   "source": [
    "lista = ['green', 'blue', 'red']\n",
    "listb = ['#008000', '#0000FF', '#FF0000']\n",
    "\n",
    "warna = dict(zip(lista, listb))\n",
    "print(warna)"
   ]
  },
  {
   "cell_type": "code",
   "execution_count": 6,
   "id": "30a4037b-ddf4-439a-bc9b-4c82bef8109a",
   "metadata": {},
   "outputs": [
    {
     "name": "stdout",
     "output_type": "stream",
     "text": [
      "\n",
      "Histogram email:\n",
      "{'stephen.marquard@uct.ac.za': 2, 'louis@media.berkeley.edu': 3, 'zqian@umich.edu': 4, 'rjlowe@iupui.edu': 2, 'cwen@iupui.edu': 5, 'gsilver@umich.edu': 3, 'wagnermr@iupui.edu': 1, 'antranig@caret.cam.ac.uk': 1, 'gopal.ramasammycook@gmail.com': 1, 'david.horwitz@uct.ac.za': 4, 'ray@media.berkeley.edu': 1}\n"
     ]
    }
   ],
   "source": [
    "email_counts = dict()\n",
    "\n",
    "\n",
    "fname = \"mbox-short.txt\"\n",
    "\n",
    "try:\n",
    "    with open(fname) as fhand:\n",
    "        for line in fhand:\n",
    "            if line.startswith(\"From \"):  # perhatikan ada spasi setelah 'From'\n",
    "                words = line.split()\n",
    "                email = words[1]\n",
    "                email_counts[email] = email_counts.get(email, 0) + 1\n",
    "except FileNotFoundError:\n",
    "    print(\"File tidak ditemukan!\")\n",
    "    quit()\n",
    "\n",
    "print(\"\\nHistogram email:\")\n",
    "print(email_counts)\n"
   ]
  },
  {
   "cell_type": "code",
   "execution_count": 8,
   "id": "a0ce2724-2d48-41ff-928a-94c9469d5882",
   "metadata": {},
   "outputs": [
    {
     "name": "stdin",
     "output_type": "stream",
     "text": [
      "Masukkan nama file:  mbox-short.txt\n"
     ]
    },
    {
     "name": "stdout",
     "output_type": "stream",
     "text": [
      "\n",
      "Jumlah pesan per domain:\n",
      "{'uct.ac.za': 6, 'media.berkeley.edu': 4, 'umich.edu': 7, 'iupui.edu': 8, 'caret.cam.ac.uk': 1, 'gmail.com': 1}\n"
     ]
    }
   ],
   "source": [
    "domain_counts = dict()\n",
    "\n",
    "fname = input(\"Masukkan nama file: \")\n",
    "\n",
    "try:\n",
    "    fhand = open(fname)\n",
    "except FileNotFoundError:\n",
    "    print(\"File tidak bisa dibuka!\")\n",
    "    exit()\n",
    "\n",
    "for line in fhand:\n",
    "    if line.startswith(\"From \"):\n",
    "        words = line.split()\n",
    "        email = words[1]\n",
    "        domain = email.split('@')[1]\n",
    "        domain_counts[domain] = domain_counts.get(domain, 0) + 1\n",
    "\n",
    "print(\"\\nJumlah pesan per domain:\")\n",
    "print(domain_counts)"
   ]
  },
  {
   "cell_type": "code",
   "execution_count": null,
   "id": "b2b27436-cd38-4eb9-aafc-c47a41bbdd7a",
   "metadata": {},
   "outputs": [],
   "source": []
  }
 ],
 "metadata": {
  "kernelspec": {
   "display_name": "Python [conda env:base] *",
   "language": "python",
   "name": "conda-base-py"
  },
  "language_info": {
   "codemirror_mode": {
    "name": "ipython",
    "version": 3
   },
   "file_extension": ".py",
   "mimetype": "text/x-python",
   "name": "python",
   "nbconvert_exporter": "python",
   "pygments_lexer": "ipython3",
   "version": "3.12.7"
  }
 },
 "nbformat": 4,
 "nbformat_minor": 5
}
