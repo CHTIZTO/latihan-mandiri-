{
 "cells": [
  {
   "cell_type": "code",
   "execution_count": 1,
   "id": "38f4a2df-1773-4003-b93a-7bc598645205",
   "metadata": {},
   "outputs": [
    {
     "name": "stdout",
     "output_type": "stream",
     "text": [
      "True\n"
     ]
    }
   ],
   "source": [
    "tA = (90, 90, 90, 90)\n",
    "\n",
    "def semua_sama(t):\n",
    "    return len(set(t)) == 1\n",
    "\n",
    "print(semua_sama(tA))\n"
   ]
  },
  {
   "cell_type": "code",
   "execution_count": 7,
   "id": "d11320ed-75ac-4929-a7df-2011d748fae4",
   "metadata": {},
   "outputs": [
    {
     "name": "stdout",
     "output_type": "stream",
     "text": [
      "NIM: 22064091\n",
      "NAMA: Matahari Bhakti Nendya\n",
      "ALAMAT: Bantul, DI Yogyakarta\n",
      "\n",
      "NIM: ('2', '2', '0', '6', '4', '0', '9', '1')\n",
      "\n",
      "NAMA DEPAN: ('M', 'a', 't', 'a', 'h', 'a', 'r', 'i')\n",
      "\n",
      "NAMA TERBALIK: ('Nendya', 'Bhakti', 'Matahari')\n"
     ]
    }
   ],
   "source": [
    "data = ('Matahari Bhakti Nendya', '22064091', 'Bantul, DI Yogyakarta')\n",
    "\n",
    "print(\"NIM:\", data[1])\n",
    "print(\"NAMA:\", data[0])\n",
    "print(\"ALAMAT:\", data[2])\n",
    "print()\n",
    "nim_tuple = tuple(data[1])\n",
    "print(\"NIM:\", nim_tuple)\n",
    "print ()\n",
    "nama_terbalik = data[0].split()[::-1]\n",
    "print(\"NAMA DEPAN:\", tuple(nama_terbalik[-1]))\n",
    "print()\n",
    "print(\"NAMA TERBALIK:\", tuple(nama_terbalik))"
   ]
  },
  {
   "cell_type": "code",
   "execution_count": 9,
   "id": "95b53ea8-5b30-4faf-9e9d-59cda1b163ed",
   "metadata": {},
   "outputs": [
    {
     "name": "stdin",
     "output_type": "stream",
     "text": [
      "Enter file name:  mbox-short.txt\n"
     ]
    },
    {
     "name": "stdout",
     "output_type": "stream",
     "text": [
      "04 3\n",
      "06 1\n",
      "07 1\n",
      "09 2\n",
      "10 3\n",
      "11 6\n",
      "14 1\n",
      "15 2\n",
      "16 4\n",
      "17 2\n",
      "18 1\n",
      "19 1\n"
     ]
    }
   ],
   "source": [
    "fname = input(\"Enter file name: \")\n",
    "\n",
    "try:\n",
    "    fhand = open(fname)\n",
    "except:\n",
    "    print(\"File tidak ditemukan.\")\n",
    "    quit()\n",
    "\n",
    "jam_count = dict()\n",
    "\n",
    "for line in fhand:\n",
    "    if not line.startswith(\"From \"): continue\n",
    "    parts = line.split()\n",
    "    if len(parts) < 6: continue\n",
    "    waktu = parts[5]\n",
    "    jam = waktu.split(\":\")[0]\n",
    "    jam_count[jam] = jam_count.get(jam, 0) + 1\n",
    "\n",
    "for jam in sorted(jam_count):\n",
    "    print(jam, jam_count[jam])"
   ]
  },
  {
   "cell_type": "code",
   "execution_count": null,
   "id": "26dc059e-b525-40dc-9c35-c68f87863fb2",
   "metadata": {},
   "outputs": [],
   "source": []
  }
 ],
 "metadata": {
  "kernelspec": {
   "display_name": "Python [conda env:base] *",
   "language": "python",
   "name": "conda-base-py"
  },
  "language_info": {
   "codemirror_mode": {
    "name": "ipython",
    "version": 3
   },
   "file_extension": ".py",
   "mimetype": "text/x-python",
   "name": "python",
   "nbconvert_exporter": "python",
   "pygments_lexer": "ipython3",
   "version": "3.12.7"
  }
 },
 "nbformat": 4,
 "nbformat_minor": 5
}
