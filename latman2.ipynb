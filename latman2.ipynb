{
 "cells": [
  {
   "cell_type": "code",
   "execution_count": 30,
   "id": "c1e72621-5528-4a04-82c6-daedd1ea938a",
   "metadata": {},
   "outputs": [
    {
     "name": "stdin",
     "output_type": "stream",
     "text": [
      "tinggi badan anda dalam m :  1.7\n",
      "BMI anda 22.5\n"
     ]
    },
    {
     "name": "stdout",
     "output_type": "stream",
     "text": [
      "Berat badan yang dibutuhkan : 65.025 kg\n"
     ]
    }
   ],
   "source": [
    "tinggi = float (input (\"tinggi badan anda dalam m : \"))\n",
    "bmi = float (input (\"BMI anda\"))\n",
    "\n",
    "berat = bmi * (tinggi **2)\n",
    "print (\"Berat badan yang dibutuhkan :\",(round (berat , 3 )), \"kg\")"
   ]
  },
  {
   "cell_type": "code",
   "execution_count": 42,
   "id": "912c14ad-bf5b-4b62-b673-2c65ff4da0df",
   "metadata": {},
   "outputs": [
    {
     "name": "stdin",
     "output_type": "stream",
     "text": [
      "Masukkan nilai X 4\n"
     ]
    },
    {
     "name": "stdout",
     "output_type": "stream",
     "text": [
      "139.75\n"
     ]
    }
   ],
   "source": [
    "nilai = int (input (\"Masukkan nilai X\"))\n",
    "\n",
    "proc = (2 * (nilai ** 3)) + (2 * nilai) + (15 / nilai)\n",
    "print (proc)"
   ]
  },
  {
   "cell_type": "code",
   "execution_count": 64,
   "id": "58cd4533-0b86-4a42-a786-1b13992c1b4a",
   "metadata": {},
   "outputs": [
    {
     "name": "stdin",
     "output_type": "stream",
     "text": [
      "Masukkan gaji per jam:  100000\n",
      "Masukkan jumlah jam kerja per minggu:  20\n"
     ]
    },
    {
     "name": "stdout",
     "output_type": "stream",
     "text": [
      "1. Pendapatan Budi selama libur musim panas sebelum pajak: Rp 10,000,000.00\n",
      "2. Pendapatan Budi setelah pajak: Rp 8,600,000.00\n",
      "3. Pengeluaran untuk pakaian dan aksesoris: Rp 860,000.00\n",
      "4. Pengeluaran untuk alat tulis: Rp 86,000.00\n",
      "5. Jumlah uang yang akan disedekahkan: Rp 1,913,500.00\n",
      "6. Jumlah uang yang diterima anak yatim: Rp 574,050.00\n",
      "7. Jumlah uang yang diterima kaum dhuafa: Rp 1,339,450.00\n"
     ]
    }
   ],
   "source": [
    "gaji_per_jam = float(input(\"Masukkan gaji per jam: \"))\n",
    "jam_per_minggu = float(input(\"Masukkan jumlah jam kerja per minggu: \"))\n",
    "\n",
    "waktu_kerja = 5  \n",
    "pajak = 0.14  \n",
    "beli_baju_aksesoris = 0.10  \n",
    "beli_alat_tulis = 0.01  \n",
    "sedekah = 0.25  \n",
    "sedekah_yatim = 0.30  \n",
    "\n",
    "pendapatan_sebelum_pajak = gaji_per_jam * jam_per_minggu * waktu_kerja\n",
    "pendptn_setelh_pajak = pendapatan_sebelum_pajak * (1 - pajak)\n",
    "totbel_pakaian = pendptn_setelh_pajak * beli_baju_aksesoris\n",
    "totbel_alat_tulis = pendptn_setelh_pajak * beli_alat_tulis\n",
    "uang_sisa = pendptn_setelh_pajak - (totbel_pakaian + totbel_alat_tulis)\n",
    "\n",
    "totsedekah = uang_sisa * sedekah\n",
    "yatim = totsedekah * sedekah_yatim \n",
    "dhuafa = totsedekah * (1 - sedekah_yatim  )\n",
    "\n",
    "print(f\"1. Pendapatan Budi selama libur musim panas sebelum pajak: Rp {pendapatan_sebelum_pajak:,.2f}\")\n",
    "print(f\"2. Pendapatan Budi setelah pajak: Rp {pendptn_setelh_pajak:,.2f}\")\n",
    "print(f\"3. Pengeluaran untuk pakaian dan aksesoris: Rp {totbel_pakaian:,.2f}\")\n",
    "print(f\"4. Pengeluaran untuk alat tulis: Rp {totbel_alat_tulis:,.2f}\")\n",
    "print(f\"5. Jumlah uang yang akan disedekahkan: Rp {totsedekah:,.2f}\")\n",
    "print(f\"6. Jumlah uang yang diterima anak yatim: Rp {yatim:,.2f}\")\n",
    "print(f\"7. Jumlah uang yang diterima kaum dhuafa: Rp {dhuafa:,.2f}\")"
   ]
  },
  {
   "cell_type": "code",
   "execution_count": null,
   "id": "fae9ee76-b914-41c4-a03c-ba330a857d49",
   "metadata": {},
   "outputs": [],
   "source": []
  }
 ],
 "metadata": {
  "kernelspec": {
   "display_name": "Python [conda env:base] *",
   "language": "python",
   "name": "conda-base-py"
  },
  "language_info": {
   "codemirror_mode": {
    "name": "ipython",
    "version": 3
   },
   "file_extension": ".py",
   "mimetype": "text/x-python",
   "name": "python",
   "nbconvert_exporter": "python",
   "pygments_lexer": "ipython3",
   "version": "3.12.7"
  }
 },
 "nbformat": 4,
 "nbformat_minor": 5
}
