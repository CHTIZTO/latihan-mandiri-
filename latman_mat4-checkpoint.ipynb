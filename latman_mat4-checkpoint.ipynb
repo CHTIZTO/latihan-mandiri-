{
 "cells": [
  {
   "cell_type": "code",
   "execution_count": 1,
   "id": "98766fe4-d84d-4d54-ab2d-d0325da9ec32",
   "metadata": {},
   "outputs": [
    {
     "name": "stdin",
     "output_type": "stream",
     "text": [
      "Masukkan jumlah pembelian:  120000\n"
     ]
    },
    {
     "name": "stdout",
     "output_type": "stream",
     "text": [
      "True\n"
     ]
    }
   ],
   "source": [
    "try:\n",
    "    pembelian = float(input(\"Masukkan jumlah pembelian: \"))\n",
    "    if pembelian >= 100000:\n",
    "        print(\"True\")\n",
    "    else:\n",
    "        print(\"False\")\n",
    "except ValueError:\n",
    "    print(\"Input tidak valid. Harap masukkan angka.\")"
   ]
  },
  {
   "cell_type": "code",
   "execution_count": 5,
   "id": "c854d90e-ea6c-4711-9f68-97d58b5df72f",
   "metadata": {},
   "outputs": [
    {
     "name": "stdin",
     "output_type": "stream",
     "text": [
      "Masukkan usia anda:  20\n"
     ]
    },
    {
     "name": "stdout",
     "output_type": "stream",
     "text": [
      "Remaja\n"
     ]
    }
   ],
   "source": [
    "try:\n",
    "    usia = int(input(\"Masukkan usia anda: \"))\n",
    "    \n",
    "    if usia <= 5:\n",
    "        print(\"Balita\")\n",
    "    elif 6 <= usia <= 11:\n",
    "        print(\"Kanak-kanak\")\n",
    "    elif 12 <= usia <= 25:\n",
    "        print(\"Remaja\")\n",
    "    elif 26 <= usia <= 45:\n",
    "        print(\"Dewasa\")\n",
    "    else:\n",
    "        print(\"Lansia\")\n",
    "        \n",
    "except ValueError:\n",
    "    print(\"Input tidak valid. Harap masukkan angka bulat.\")"
   ]
  },
  {
   "cell_type": "code",
   "execution_count": 7,
   "id": "5077ec35-3e1f-4e7c-bd9e-1e6734ed1b66",
   "metadata": {},
   "outputs": [
    {
     "name": "stdin",
     "output_type": "stream",
     "text": [
      "Masukkan usia anda:  40.5\n"
     ]
    },
    {
     "name": "stdout",
     "output_type": "stream",
     "text": [
      "Input tidak valid. Harap masukkan angka bulat.\n"
     ]
    },
    {
     "name": "stdin",
     "output_type": "stream",
     "text": [
      "Masukkan usia anda:  40\n"
     ]
    },
    {
     "name": "stdout",
     "output_type": "stream",
     "text": [
      "Dewasa\n"
     ]
    }
   ],
   "source": [
    "while True:\n",
    "    try:\n",
    "        usia = int(input(\"Masukkan usia anda: \"))\n",
    "        \n",
    "        if usia <= 5:\n",
    "            print(\"Balita\")\n",
    "        elif 6 <= usia <= 11:\n",
    "            print(\"Kanak-kanak\")\n",
    "        elif 12 <= usia <= 25:\n",
    "            print(\"Remaja\")\n",
    "        elif 26 <= usia <= 45:\n",
    "            print(\"Dewasa\")\n",
    "        else:\n",
    "            print(\"Lansia\")\n",
    "        break  # Keluar dari loop jika input valid\n",
    "        \n",
    "    except ValueError:\n",
    "        print(\"Input tidak valid. Harap masukkan angka bulat.\")"
   ]
  },
  {
   "cell_type": "code",
   "execution_count": 9,
   "id": "1bb89d6d-529e-402b-9743-4ee4cc87162f",
   "metadata": {},
   "outputs": [
    {
     "name": "stdin",
     "output_type": "stream",
     "text": [
      "Masukkan sebuah angka:  7\n"
     ]
    },
    {
     "name": "stdout",
     "output_type": "stream",
     "text": [
      "Angka positif\n"
     ]
    }
   ],
   "source": [
    "angka = int(input(\"Masukkan sebuah angka: \"))\n",
    "\n",
    "if angka > 0:\n",
    "    print(\"Angka positif\")\n",
    "elif angka < 0:\n",
    "    print(\"Angka negatif\")\n",
    "else:\n",
    "    print(\"Angka nol\")"
   ]
  },
  {
   "cell_type": "code",
   "execution_count": 11,
   "id": "9328e2b7-5c1d-4d77-9750-ec4778d424ee",
   "metadata": {},
   "outputs": [
    {
     "name": "stdin",
     "output_type": "stream",
     "text": [
      "Masukkan sebuah angka:  7.7\n"
     ]
    },
    {
     "name": "stdout",
     "output_type": "stream",
     "text": [
      "Input tidak valid. Harap masukkan angka.\n"
     ]
    }
   ],
   "source": [
    "try:\n",
    "    angka = int(input(\"Masukkan sebuah angka: \"))\n",
    "    print(\"Angka positif\" if angka > 0 else \"Angka negatif\" if angka < 0 else \"Angka nol\")\n",
    "except ValueError:\n",
    "    print(\"Input tidak valid. Harap masukkan angka.\")"
   ]
  },
  {
   "cell_type": "code",
   "execution_count": 23,
   "id": "79f1d99f-1a39-4007-b073-d8541c9ba799",
   "metadata": {},
   "outputs": [
    {
     "name": "stdin",
     "output_type": "stream",
     "text": [
      "Masukkan bulan (1-12):  7\n"
     ]
    },
    {
     "name": "stdout",
     "output_type": "stream",
     "text": [
      "Jumlah hari: 31\n"
     ]
    }
   ],
   "source": [
    "def jumlah_hari(bulan):\n",
    "\n",
    "    if bulan in [1, 3, 5, 7, 8, 10, 12]:\n",
    "        return 31\n",
    "    elif bulan in [4, 6, 9, 11]:\n",
    "        return 30\n",
    "    elif bulan == 2: \n",
    "        return 29\n",
    "    else:\n",
    "        return None \n",
    "\n",
    "try:\n",
    "    bulan = int(input(\"Masukkan bulan (1-12): \"))\n",
    "    hari = jumlah_hari(bulan)\n",
    "    if hari:\n",
    "        print(f\"Jumlah hari: {hari}\")\n",
    "    else:\n",
    "        print(\"Bulan yang Anda masukkan tidak valid. Harap masukkan angka 1-12.\")\n",
    "\n",
    "except ValueError:\n",
    "    print(\"Input tidak valid. Harap masukkan angka antara 1 hingga 12.\")"
   ]
  },
  {
   "cell_type": "code",
   "execution_count": 25,
   "id": "4aacc9a8-950e-4172-acba-d3159db77701",
   "metadata": {},
   "outputs": [
    {
     "name": "stdin",
     "output_type": "stream",
     "text": [
      "Masukkan sisi 1:  30\n",
      "Masukkan sisi 2:  30\n",
      "Masukkan sisi 3:  30\n"
     ]
    },
    {
     "name": "stdout",
     "output_type": "stream",
     "text": [
      "3 sisi sama\n"
     ]
    }
   ],
   "source": [
    "def cek_segitiaga(sisi1, sisi2, sisi3):\n",
    "    if sisi1 == sisi2 == sisi3:\n",
    "        return \"3 sisi sama\"\n",
    "    elif sisi1 == sisi2 or sisi1 == sisi3 or sisi2 == sisi3:\n",
    "        return \"2 sisi sama\"\n",
    "    else:\n",
    "        return \"Tidak ada yang sama\"\n",
    "\n",
    "try:\n",
    "    sisi1 = float(input(\"Masukkan sisi 1: \"))\n",
    "    sisi2 = float(input(\"Masukkan sisi 2: \"))\n",
    "    sisi3 = float(input(\"Masukkan sisi 3: \"))\n",
    "\n",
    "    if sisi1 <= 0 or sisi2 <= 0 or sisi3 <= 0:\n",
    "        print(\"Panjang sisi harus lebih dari 0.\")\n",
    "    else:\n",
    "        print(cek_segitiaga(sisi1, sisi2, sisi3))\n",
    "except ValueError:\n",
    "    print(\"Input tidak valid. Harap masukkan angka yang benar.\")"
   ]
  },
  {
   "cell_type": "code",
   "execution_count": null,
   "id": "c7f4ea4e-d53c-42e0-8317-794e3ba42316",
   "metadata": {},
   "outputs": [],
   "source": []
  }
 ],
 "metadata": {
  "kernelspec": {
   "display_name": "Python [conda env:base] *",
   "language": "python",
   "name": "conda-base-py"
  },
  "language_info": {
   "codemirror_mode": {
    "name": "ipython",
    "version": 3
   },
   "file_extension": ".py",
   "mimetype": "text/x-python",
   "name": "python",
   "nbconvert_exporter": "python",
   "pygments_lexer": "ipython3",
   "version": "3.12.7"
  }
 },
 "nbformat": 4,
 "nbformat_minor": 5
}
